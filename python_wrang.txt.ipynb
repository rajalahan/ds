Python:
import pandas as pd
df=pd.read_csv('data.csv')
df=df.dropna()
df=df.drop_duplicates()
df=df.drop(columns=['col1', 'col2'])
#normalize
df['col3']=(df['col3']-df['col3].mean()/df['col3'].std()
df['col4']=pd.get_dummies(df['col4'])

# save clean data
df.to_csv('cleaned_data.csv', index=False)